{
 "cells": [
  {
   "cell_type": "markdown",
   "id": "c94628aa",
   "metadata": {},
   "source": [
    "# Mining - Drilling data pipeline solution - Sukari\n",
    "\n",
    "This **solution** will \n",
    "1. Read Mining and Drilling excel files that we currently input them manually daily.\n",
    "2. Do some data cleaning. \n",
    "3. Store cleaned data in a proper way in a database."
   ]
  },
  {
   "cell_type": "code",
   "execution_count": 1,
   "id": "90c34fca",
   "metadata": {},
   "outputs": [],
   "source": [
    "# import libraries\n",
    "\n",
    "import glob\n",
    "import numpy as np\n",
    "import pandas as pd\n",
    "from datetime import time\n",
    "import sqlalchemy as sa\n",
    "import os\n",
    "import warnings\n",
    "\n",
    "# ignore some warnings\n",
    "warnings.filterwarnings('ignore', category=UserWarning, module='openpyxl')"
   ]
  },
  {
   "cell_type": "markdown",
   "id": "a83ec528",
   "metadata": {},
   "source": [
    "### 1 - Read Excel Files"
   ]
  },
  {
   "cell_type": "markdown",
   "id": "75e82765",
   "metadata": {},
   "source": [
    "#### 1 - A - Mining Data\n",
    "There are 3 excel sheets for Mining:\n",
    "1. Daily Dispatch Master.\n",
    "    - This is our main excel sheet, it has data for **Loads**, **Hours** and **SMU**.\n",
    "    - Loads and Hours are stored as aggregates for every one hour interval, SMU is recorded at shift start and end.\n",
    "2. Daily Production Report.\n",
    "    - Will extract the monthly truck factor from it.\n",
    "3. Daily Production Performance\n",
    "    - Has distances for excavators recorded as aggregates per shift."
   ]
  },
  {
   "cell_type": "code",
   "execution_count": 16,
   "id": "9ea9c726",
   "metadata": {
    "scrolled": false
   },
   "outputs": [
    {
     "name": "stdout",
     "output_type": "stream",
     "text": [
      "Reading dispatch files...\n",
      "\n",
      "dispatch files number = 1\n",
      "finished dispatch/01. Database Master (January_2023 ).xlsx\n",
      "Columns = 22\n",
      "last dispatch date = 13140   2023-01-04\n",
      "Name: DATE, dtype: datetime64[ns]\n",
      "\n",
      "dispatch files reading successfully...\n"
     ]
    }
   ],
   "source": [
    "# Read dispatch master\n",
    "dispatch_path = 'dispatch/*.xlsx'\n",
    "dispatch_files = glob.glob(dispatch_path)\n",
    "dispatch_df = pd.DataFrame()\n",
    "print('Reading Dispatch Files...\\n')\n",
    "if len(dispatch_files) < 1 :\n",
    "    raise ValueError('No files to read!')\n",
    "else : \n",
    "    print('dispatch files number =', len(dispatch_files))\n",
    "    for file in dispatch_files:\n",
    "        df = pd.read_excel(io=file, sheet_name=\"Fix Database\",  usecols='B:W')\n",
    "        dispatch_df = pd.concat([dispatch_df, df], ignore_index=True, axis=0)\n",
    "        print(\"finished {}\".format(file))\n",
    "        print(\"Columns = {}\".format(len(dispatch_df.columns)))\n",
    "        if len(dispatch_df.columns) > 22:\n",
    "             raise ValueError('Cols are more than 22, check excel sheet format')\n",
    "print('last dispatch date =', dispatch_df['DATE'].tail(1))\n",
    "print('\\nDispatch Files Reading Ended Successfully...')"
   ]
  },
  {
   "cell_type": "code",
   "execution_count": 26,
   "id": "edfe4fe1",
   "metadata": {
    "scrolled": true
   },
   "outputs": [
    {
     "name": "stdout",
     "output_type": "stream",
     "text": [
      "Reading Performance Files...\n",
      "\n",
      "performance files number = 1\n",
      "finished performance/DPR Daily Production Report January Performance.xlsx\n",
      "Columns = 4\n",
      "last performance date = 249   NaT\n",
      "Name: DATE, dtype: datetime64[ns]\n",
      "\n",
      "Performance Files Reading Ended Successfully...\n"
     ]
    }
   ],
   "source": [
    "# Read performance master\n",
    "performance_path = 'performance/*.xlsx'\n",
    "performance_files = glob.glob(performance_path)\n",
    "performance_df = pd.DataFrame()\n",
    "print('\\nReading Performance Files...\\n')\n",
    "if len(performance_files) < 1 :\n",
    "    raise ValueError('No files to read!')\n",
    "else : \n",
    "    print('performance files number =', len(performance_files))\n",
    "    for file in performance_files:\n",
    "        df_ds = pd.read_excel(io=file, sheet_name=\"Distance (dsns)\", skiprows=2, usecols='B,C,D', header=None, names=['DATE','EXC','distance'])\n",
    "        df_ds['shift'] = 'day'\n",
    "        df_ns = pd.read_excel(io=file, sheet_name=\"Distance (dsns)\", skiprows=2, usecols='O,P,Q', header=None, names=['DATE','EXC','distance'])\n",
    "        df_ns['shift'] = 'night'\n",
    "        df = pd.concat([df_ds, df_ns], ignore_index=True, axis=0)\n",
    "        performance_df = pd.concat([performance_df, df], ignore_index=True, axis=0)\n",
    "        print(\"finished {}\".format(file))\n",
    "        print(\"Columns = {}\".format(len(performance_df.columns)))\n",
    "        if len(performance_df.columns) != 4:\n",
    "             raise ValueError('Cols are not equal to 4, check excel sheet format')\n",
    "print('last performance date =', performance_df['DATE'].tail(1))\n",
    "print('\\nPerformance Files Reading Ended Successfully...')"
   ]
  },
  {
   "cell_type": "code",
   "execution_count": 39,
   "id": "e44329f3",
   "metadata": {
    "scrolled": true
   },
   "outputs": [
    {
     "name": "stdout",
     "output_type": "stream",
     "text": [
      "Reading dpr Files...\n",
      "\n",
      "dpr files number = 1\n",
      "finished dpr/DPR-Daily Production Report_January.xlsx\n",
      "Columns = 5\n",
      "last performance date = 7134   NaT\n",
      "Name: Date, dtype: datetime64[ns]\n",
      "\n",
      "Performance Files Reading Ended Successfully...\n"
     ]
    }
   ],
   "source": [
    "# Read dpr\n",
    "dpr_path = 'dpr/*.xlsx'\n",
    "dpr_files = glob.glob(dpr_path)\n",
    "dpr_df = pd.DataFrame()\n",
    "print('\\nReading dpr Files...\\n')\n",
    "if len(dpr_files) < 1 :\n",
    "    raise ValueError('No files to read!')\n",
    "else : \n",
    "    print('dpr files number =', len(dpr_files))\n",
    "    for file in dpr_files:\n",
    "        df = pd.read_excel(file, sheet_name='Data Sheet', usecols=\"A,H,L,M,N\")\n",
    "        dpr_df = pd.concat([dpr_df, df], ignore_index=True, axis=0)\n",
    "        print(\"finished {}\".format(file))\n",
    "        print(\"Columns = {}\".format(len(dpr_df.columns)))\n",
    "        if len(dpr_df.columns) != 5:\n",
    "             raise ValueError('Cols are not equal to 4, check excel sheet format')\n",
    "print('last performance date =', dpr_df['Date'].tail(1))\n",
    "print('\\nPerformance Files Reading Ended Successfully...')"
   ]
  },
  {
   "cell_type": "markdown",
   "id": "2e63001b",
   "metadata": {},
   "source": [
    "#### 1 - B - Drilling Data\n",
    "There are 2 excel sheets for Drilling:\n",
    "1. Daily Drilling Data.\n",
    "    - This is our main excel sheet, it has meters drilled aggregated for each hole.\n",
    "2. Rigs Data.\n",
    "    - Has the rigs hours aggregated per shift"
   ]
  },
  {
   "cell_type": "code",
   "execution_count": 51,
   "id": "05bdc1f9",
   "metadata": {},
   "outputs": [],
   "source": [
    "# Read daily drilling data\n",
    "\n",
    "# Read Rigs data\n"
   ]
  },
  {
   "cell_type": "markdown",
   "id": "78863c4c",
   "metadata": {},
   "source": [
    "### 2 - Data Cleaning"
   ]
  },
  {
   "cell_type": "markdown",
   "id": "aeb367f1",
   "metadata": {},
   "source": [
    "#### 2 - A - General data cleaning"
   ]
  },
  {
   "cell_type": "code",
   "execution_count": 59,
   "id": "7af6e705",
   "metadata": {},
   "outputs": [
    {
     "name": "stdout",
     "output_type": "stream",
     "text": [
      "Index(['date', 'shift', 'time', 'operator_name', 'crew', 'activity',\n",
      "       'reason_activity', 'engine_state_code', 'equipment_id',\n",
      "       'equipment_oem_model', 'related_equipment', 'location_pit',\n",
      "       'material_code', 'material_type_code', 'cost_code', 'entry_type',\n",
      "       'production_value', 'related_equipment_oem_model', 'destination',\n",
      "       'activity_code', 'reason_code', 'dispatcher_name'],\n",
      "      dtype='object')\n",
      "Index(['date', 'exc', 'distance', 'shift'], dtype='object')\n",
      "Index(['date', 'entry_type', 'amount', '#loads', 'truck_factor'], dtype='object')\n"
     ]
    }
   ],
   "source": [
    "# storing all dfs in a list\n",
    "dfs = [dispatch_df, performance_df, dpr_df]\n",
    "\n",
    "for df in dfs : \n",
    "    # clean column names\n",
    "    df.columns = df.columns.str.lower().str.replace(' ','_')\n",
    "    print(df.columns)"
   ]
  },
  {
   "cell_type": "code",
   "execution_count": null,
   "id": "51792df6",
   "metadata": {},
   "outputs": [],
   "source": []
  }
 ],
 "metadata": {
  "kernelspec": {
   "display_name": "Python 3 (ipykernel)",
   "language": "python",
   "name": "python3"
  },
  "language_info": {
   "codemirror_mode": {
    "name": "ipython",
    "version": 3
   },
   "file_extension": ".py",
   "mimetype": "text/x-python",
   "name": "python",
   "nbconvert_exporter": "python",
   "pygments_lexer": "ipython3",
   "version": "3.9.13"
  }
 },
 "nbformat": 4,
 "nbformat_minor": 5
}
